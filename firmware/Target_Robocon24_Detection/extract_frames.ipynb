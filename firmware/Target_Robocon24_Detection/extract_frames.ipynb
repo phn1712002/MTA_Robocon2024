{
 "cells": [
  {
   "cell_type": "code",
   "execution_count": 1,
   "metadata": {},
   "outputs": [],
   "source": [
    "import cv2\n",
    "import os\n",
    "\n",
    "def extract_frames(video_path, output_dir, interval):\n",
    "  \"\"\"\n",
    "  Hàm trích xuất khung hình từ video.\n",
    "\n",
    "  Args:\n",
    "    video_path: Đường dẫn đến video.\n",
    "    output_dir: Đường dẫn đến thư mục lưu ảnh.\n",
    "    interval: Khoảng thời gian (giây) giữa các khung hình.\n",
    "\n",
    "  Returns:\n",
    "    None\n",
    "  \"\"\"\n",
    "\n",
    "  # Tạo thư mục lưu ảnh nếu chưa tồn tại\n",
    "  if not os.path.exists(output_dir):\n",
    "    os.makedirs(output_dir)\n",
    "\n",
    "  # Đọc video\n",
    "  cap = cv2.VideoCapture(video_path)\n",
    "\n",
    "  # Lấy tên video (không kèm phần mở rộng)\n",
    "  video_name = os.path.splitext(os.path.basename(video_path))[0]\n",
    "\n",
    "  # Khởi tạo biến đếm khung hình\n",
    "  count = 0\n",
    "\n",
    "  # Vòng lặp qua từng khung hình\n",
    "  while cap.isOpened():\n",
    "    ret, frame = cap.read()\n",
    "\n",
    "    if not ret:\n",
    "      break\n",
    "\n",
    "    # Cứ sau mỗi interval giây, lưu ảnh\n",
    "    if count % (interval * cap.get(cv2.CAP_PROP_FPS)) == 0:\n",
    "      file_name = f\"{video_name}_{count}.png\"\n",
    "      cv2.imwrite(os.path.join(output_dir, file_name), frame)\n",
    "\n",
    "    count += 1\n",
    "\n",
    "  # Giải phóng bộ nhớ\n",
    "  cap.release()\n",
    "  cv2.destroyAllWindows()"
   ]
  },
  {
   "cell_type": "code",
   "execution_count": 12,
   "metadata": {},
   "outputs": [
    {
     "ename": "KeyboardInterrupt",
     "evalue": "",
     "output_type": "error",
     "traceback": [
      "\u001b[1;31m---------------------------------------------------------------------------\u001b[0m",
      "\u001b[1;31mKeyboardInterrupt\u001b[0m                         Traceback (most recent call last)",
      "\u001b[1;32md:\\_Code\\Target_Robocon24_Detection\\extract_frames.ipynb Cell 2\u001b[0m line \u001b[0;36m4\n\u001b[0;32m      <a href='vscode-notebook-cell:/d%3A/_Code/Target_Robocon24_Detection/extract_frames.ipynb#W1sZmlsZQ%3D%3D?line=1'>2</a>\u001b[0m interval \u001b[39m=\u001b[39m \u001b[39m1\u001b[39m\n\u001b[0;32m      <a href='vscode-notebook-cell:/d%3A/_Code/Target_Robocon24_Detection/extract_frames.ipynb#W1sZmlsZQ%3D%3D?line=2'>3</a>\u001b[0m output_dir \u001b[39m=\u001b[39m \u001b[39m\"\u001b[39m\u001b[39mD:/_Code/Target_Robocon24_Detection/data/raw_img\u001b[39m\u001b[39m\"\u001b[39m\n\u001b[1;32m----> <a href='vscode-notebook-cell:/d%3A/_Code/Target_Robocon24_Detection/extract_frames.ipynb#W1sZmlsZQ%3D%3D?line=3'>4</a>\u001b[0m extract_frames(video_path, output_dir, interval)\n",
      "\u001b[1;32md:\\_Code\\Target_Robocon24_Detection\\extract_frames.ipynb Cell 2\u001b[0m line \u001b[0;36m3\n\u001b[0;32m     <a href='vscode-notebook-cell:/d%3A/_Code/Target_Robocon24_Detection/extract_frames.ipynb#W1sZmlsZQ%3D%3D?line=29'>30</a>\u001b[0m \u001b[39m# Vòng lặp qua từng khung hình\u001b[39;00m\n\u001b[0;32m     <a href='vscode-notebook-cell:/d%3A/_Code/Target_Robocon24_Detection/extract_frames.ipynb#W1sZmlsZQ%3D%3D?line=30'>31</a>\u001b[0m \u001b[39mwhile\u001b[39;00m cap\u001b[39m.\u001b[39misOpened():\n\u001b[1;32m---> <a href='vscode-notebook-cell:/d%3A/_Code/Target_Robocon24_Detection/extract_frames.ipynb#W1sZmlsZQ%3D%3D?line=31'>32</a>\u001b[0m   ret, frame \u001b[39m=\u001b[39m cap\u001b[39m.\u001b[39;49mread()\n\u001b[0;32m     <a href='vscode-notebook-cell:/d%3A/_Code/Target_Robocon24_Detection/extract_frames.ipynb#W1sZmlsZQ%3D%3D?line=33'>34</a>\u001b[0m   \u001b[39mif\u001b[39;00m \u001b[39mnot\u001b[39;00m ret:\n\u001b[0;32m     <a href='vscode-notebook-cell:/d%3A/_Code/Target_Robocon24_Detection/extract_frames.ipynb#W1sZmlsZQ%3D%3D?line=34'>35</a>\u001b[0m     \u001b[39mbreak\u001b[39;00m\n",
      "\u001b[1;31mKeyboardInterrupt\u001b[0m: "
     ]
    }
   ],
   "source": [
    "video_path = \"D:/_Code/Target_Robocon24_Detection/data/raw_video/raw_target.mp4\"\n",
    "interval = 1\n",
    "output_dir = \"D:/_Code/Target_Robocon24_Detection/data/raw_img\"\n",
    "extract_frames(video_path, output_dir, interval)"
   ]
  }
 ],
 "metadata": {
  "language_info": {
   "name": "python"
  }
 },
 "nbformat": 4,
 "nbformat_minor": 2
}

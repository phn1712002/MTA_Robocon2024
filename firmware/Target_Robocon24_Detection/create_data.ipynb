{
 "cells": [
  {
   "cell_type": "code",
   "execution_count": null,
   "metadata": {},
   "outputs": [],
   "source": [
    "import os\n",
    "import random\n",
    "from shutil import copyfile\n",
    "\n",
    "def split_data(train_ratio, test_ratio, image_dir, output_dir):\n",
    "  \"\"\"\n",
    "  Hàm phân chia dữ liệu hình ảnh thành các tập train, test, dev.\n",
    "\n",
    "  Args:\n",
    "    train_ratio: Tỷ lệ dữ liệu dùng để train.\n",
    "    test_ratio: Tỷ lệ dữ liệu dùng để test.\n",
    "    image_dir: Đường dẫn đến thư mục chứa hình ảnh.\n",
    "    output_dir: Đường dẫn đến thư mục chứa các tập dữ liệu đã chia.\n",
    "  \"\"\"\n",
    "\n",
    "  # Tính tỷ lệ dev\n",
    "  dev_ratio = 1 - train_ratio - test_ratio\n",
    "\n",
    "  # Tạo các thư mục con trong thư mục output\n",
    "  for subset in ['train', 'test', 'dev']:\n",
    "    path = os.path.join(output_dir, subset)\n",
    "    if not os.path.exists(path):\n",
    "      os.makedirs(path)\n",
    "\n",
    "  # Lấy danh sách các file ảnh\n",
    "  images = os.listdir(image_dir)\n",
    "  random.shuffle(images)\n",
    "\n",
    "  # Tính số lượng ảnh cho mỗi tập\n",
    "  num_train = int(len(images) * train_ratio)\n",
    "  num_test = int(len(images) * test_ratio)\n",
    "\n",
    "  # Phân chia ảnh vào các tập\n",
    "  for i, image in enumerate(images):\n",
    "    if i < num_train:\n",
    "      dest = os.path.join(output_dir, 'train', image)\n",
    "    elif i < num_train + num_test:\n",
    "      dest = os.path.join(output_dir, 'test', image)\n",
    "    else:\n",
    "      dest = os.path.join(output_dir, 'dev', image)\n",
    "    copyfile(os.path.join(image_dir, image), dest)"
   ]
  },
  {
   "cell_type": "code",
   "execution_count": null,
   "metadata": {},
   "outputs": [],
   "source": [
    "train_ratio = 0.7\n",
    "test_ratio = 0.2\n",
    "image_dir = \"data\\raw_img\"\n",
    "output_dir = \"data\\split_data\"\n",
    "split_data(train_ratio, test_ratio, image_dir, output_dir)"
   ]
  }
 ],
 "metadata": {
  "language_info": {
   "name": "python"
  }
 },
 "nbformat": 4,
 "nbformat_minor": 2
}
